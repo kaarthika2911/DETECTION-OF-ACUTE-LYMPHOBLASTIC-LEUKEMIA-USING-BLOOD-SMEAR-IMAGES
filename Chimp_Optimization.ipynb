{
  "nbformat": 4,
  "nbformat_minor": 0,
  "metadata": {
    "colab": {
      "provenance": []
    },
    "kernelspec": {
      "name": "python3",
      "display_name": "Python 3"
    },
    "language_info": {
      "name": "python"
    }
  },
  "cells": [
    {
      "cell_type": "code",
      "execution_count": null,
      "metadata": {
        "colab": {
          "base_uri": "https://localhost:8080/"
        },
        "id": "phgemyO0iswF",
        "outputId": "fcd49705-ddd0-45c2-9ca0-2d313ee7913a"
      },
      "outputs": [
        {
          "output_type": "stream",
          "name": "stderr",
          "text": [
            "/usr/local/lib/python3.11/dist-packages/keras/src/layers/core/dense.py:87: UserWarning: Do not pass an `input_shape`/`input_dim` argument to a layer. When using Sequential models, prefer using an `Input(shape)` object as the first layer in the model instead.\n",
            "  super().__init__(activity_regularizer=activity_regularizer, **kwargs)\n"
          ]
        },
        {
          "output_type": "stream",
          "name": "stdout",
          "text": [
            "Best Hyperparameters Found using ChOA: {'learning_rate': 0.001216105318568151, 'neurons': 128, 'dropout': 0.2276547390249169, 'batch_size': 128}\n",
            "Epoch 1/50\n",
            "\u001b[1m82/82\u001b[0m \u001b[32m━━━━━━━━━━━━━━━━━━━━\u001b[0m\u001b[37m\u001b[0m \u001b[1m2s\u001b[0m 9ms/step - accuracy: 0.7875 - loss: 0.5447 - val_accuracy: 0.9605 - val_loss: 0.1187\n",
            "Epoch 2/50\n",
            "\u001b[1m82/82\u001b[0m \u001b[32m━━━━━━━━━━━━━━━━━━━━\u001b[0m\u001b[37m\u001b[0m \u001b[1m1s\u001b[0m 11ms/step - accuracy: 0.9539 - loss: 0.1369 - val_accuracy: 0.9701 - val_loss: 0.0824\n",
            "Epoch 3/50\n",
            "\u001b[1m82/82\u001b[0m \u001b[32m━━━━━━━━━━━━━━━━━━━━\u001b[0m\u001b[37m\u001b[0m \u001b[1m1s\u001b[0m 11ms/step - accuracy: 0.9691 - loss: 0.0892 - val_accuracy: 0.9785 - val_loss: 0.0637\n",
            "Epoch 4/50\n",
            "\u001b[1m82/82\u001b[0m \u001b[32m━━━━━━━━━━━━━━━━━━━━\u001b[0m\u001b[37m\u001b[0m \u001b[1m1s\u001b[0m 6ms/step - accuracy: 0.9773 - loss: 0.0634 - val_accuracy: 0.9804 - val_loss: 0.0530\n",
            "Epoch 5/50\n",
            "\u001b[1m82/82\u001b[0m \u001b[32m━━━━━━━━━━━━━━━━━━━━\u001b[0m\u001b[37m\u001b[0m \u001b[1m1s\u001b[0m 8ms/step - accuracy: 0.9800 - loss: 0.0568 - val_accuracy: 0.9835 - val_loss: 0.0517\n",
            "Epoch 6/50\n",
            "\u001b[1m82/82\u001b[0m \u001b[32m━━━━━━━━━━━━━━━━━━━━\u001b[0m\u001b[37m\u001b[0m \u001b[1m1s\u001b[0m 7ms/step - accuracy: 0.9848 - loss: 0.0444 - val_accuracy: 0.9850 - val_loss: 0.0413\n",
            "Epoch 7/50\n",
            "\u001b[1m82/82\u001b[0m \u001b[32m━━━━━━━━━━━━━━━━━━━━\u001b[0m\u001b[37m\u001b[0m \u001b[1m1s\u001b[0m 7ms/step - accuracy: 0.9860 - loss: 0.0387 - val_accuracy: 0.9850 - val_loss: 0.0435\n",
            "Epoch 8/50\n",
            "\u001b[1m82/82\u001b[0m \u001b[32m━━━━━━━━━━━━━━━━━━━━\u001b[0m\u001b[37m\u001b[0m \u001b[1m1s\u001b[0m 6ms/step - accuracy: 0.9891 - loss: 0.0325 - val_accuracy: 0.9873 - val_loss: 0.0352\n",
            "Epoch 9/50\n",
            "\u001b[1m82/82\u001b[0m \u001b[32m━━━━━━━━━━━━━━━━━━━━\u001b[0m\u001b[37m\u001b[0m \u001b[1m1s\u001b[0m 6ms/step - accuracy: 0.9912 - loss: 0.0242 - val_accuracy: 0.9877 - val_loss: 0.0333\n",
            "Epoch 10/50\n",
            "\u001b[1m82/82\u001b[0m \u001b[32m━━━━━━━━━━━━━━━━━━━━\u001b[0m\u001b[37m\u001b[0m \u001b[1m1s\u001b[0m 7ms/step - accuracy: 0.9928 - loss: 0.0200 - val_accuracy: 0.9881 - val_loss: 0.0316\n",
            "Epoch 11/50\n",
            "\u001b[1m82/82\u001b[0m \u001b[32m━━━━━━━━━━━━━━━━━━━━\u001b[0m\u001b[37m\u001b[0m \u001b[1m1s\u001b[0m 7ms/step - accuracy: 0.9939 - loss: 0.0193 - val_accuracy: 0.9893 - val_loss: 0.0319\n",
            "Epoch 12/50\n",
            "\u001b[1m82/82\u001b[0m \u001b[32m━━━━━━━━━━━━━━━━━━━━\u001b[0m\u001b[37m\u001b[0m \u001b[1m1s\u001b[0m 6ms/step - accuracy: 0.9963 - loss: 0.0160 - val_accuracy: 0.9885 - val_loss: 0.0344\n",
            "Epoch 13/50\n",
            "\u001b[1m82/82\u001b[0m \u001b[32m━━━━━━━━━━━━━━━━━━━━\u001b[0m\u001b[37m\u001b[0m \u001b[1m1s\u001b[0m 6ms/step - accuracy: 0.9947 - loss: 0.0140 - val_accuracy: 0.9893 - val_loss: 0.0332\n",
            "Epoch 14/50\n",
            "\u001b[1m82/82\u001b[0m \u001b[32m━━━━━━━━━━━━━━━━━━━━\u001b[0m\u001b[37m\u001b[0m \u001b[1m1s\u001b[0m 6ms/step - accuracy: 0.9954 - loss: 0.0140 - val_accuracy: 0.9881 - val_loss: 0.0347\n",
            "Epoch 15/50\n",
            "\u001b[1m82/82\u001b[0m \u001b[32m━━━━━━━━━━━━━━━━━━━━\u001b[0m\u001b[37m\u001b[0m \u001b[1m1s\u001b[0m 7ms/step - accuracy: 0.9958 - loss: 0.0138 - val_accuracy: 0.9900 - val_loss: 0.0320\n"
          ]
        },
        {
          "output_type": "stream",
          "name": "stderr",
          "text": [
            "WARNING:absl:You are saving your model as an HDF5 file via `model.save()` or `keras.saving.save_model(model)`. This file format is considered legacy. We recommend using instead the native Keras format, e.g. `model.save('my_model.keras')` or `keras.saving.save_model(model, 'my_model.keras')`. \n"
          ]
        },
        {
          "output_type": "stream",
          "name": "stdout",
          "text": [
            "Model saved as leukemia_classifier_choa.h5\n"
          ]
        }
      ],
      "source": [
        "import numpy as np\n",
        "import pandas as pd\n",
        "import tensorflow as tf\n",
        "from tensorflow.keras.models import Sequential\n",
        "from tensorflow.keras.layers import Dense, Dropout\n",
        "from tensorflow.keras.optimizers import Adam\n",
        "from tensorflow.keras.callbacks import EarlyStopping\n",
        "from sklearn.preprocessing import StandardScaler, LabelEncoder\n",
        "from sklearn.model_selection import train_test_split\n",
        "import random\n",
        "import pickle\n",
        "\n",
        "# Load dataset\n",
        "file_path = 'selected_features_fast.csv'\n",
        "df = pd.read_csv(file_path)\n",
        "df = df.iloc[1:].reset_index(drop=True)  # Drop first row (feature names)\n",
        "\n",
        "# Separate features and labels\n",
        "X = df.iloc[:, :-1].values\n",
        "y = df.iloc[:, -1].values\n",
        "\n",
        "# Encode labels\n",
        "y = LabelEncoder().fit_transform(y)\n",
        "\n",
        "# Normalize features\n",
        "scaler = StandardScaler()\n",
        "X = scaler.fit_transform(X)\n",
        "\n",
        "# Split into train and test sets\n",
        "X_train, X_test, y_train, y_test = train_test_split(X, y, test_size=0.2, random_state=42)\n",
        "\n",
        "# Chimp Optimization Algorithm (ChOA) for hyperparameter tuning\n",
        "def choa_optimize(num_iterations=10, population_size=5):\n",
        "    best_hyperparams = None\n",
        "    best_accuracy = 0\n",
        "\n",
        "    population = [\n",
        "        {\"learning_rate\": random.uniform(0.0001, 0.01),\n",
        "         \"neurons\": random.choice([64, 128, 256]),\n",
        "         \"dropout\": random.uniform(0.2, 0.5),\n",
        "         \"batch_size\": random.choice([32, 64, 128])} for _ in range(population_size)]\n",
        "\n",
        "    for iteration in range(num_iterations):\n",
        "        for i in range(population_size):\n",
        "            params = population[i]\n",
        "\n",
        "            model = Sequential([\n",
        "                Dense(params[\"neurons\"], activation='relu', input_shape=(X_train.shape[1],)),\n",
        "                Dropout(params[\"dropout\"]),\n",
        "                Dense(params[\"neurons\"] // 2, activation='relu'),\n",
        "                Dropout(params[\"dropout\"] / 2),\n",
        "                Dense(len(np.unique(y)), activation='softmax')\n",
        "            ])\n",
        "\n",
        "            model.compile(optimizer=Adam(learning_rate=params[\"learning_rate\"]),\n",
        "                          loss='sparse_categorical_crossentropy',\n",
        "                          metrics=['accuracy'])\n",
        "\n",
        "            early_stopping = EarlyStopping(monitor='val_loss', patience=3, restore_best_weights=True)\n",
        "            model.fit(X_train, y_train, epochs=10, batch_size=params[\"batch_size\"],\n",
        "                      validation_split=0.2, callbacks=[early_stopping], verbose=0)\n",
        "\n",
        "            _, accuracy = model.evaluate(X_test, y_test, verbose=0)\n",
        "\n",
        "            if accuracy > best_accuracy:\n",
        "                best_accuracy = accuracy\n",
        "                best_hyperparams = params\n",
        "\n",
        "        for i in range(population_size):\n",
        "            population[i][\"learning_rate\"] = np.clip(best_hyperparams[\"learning_rate\"] + random.uniform(-0.001, 0.001), 0.0001, 0.01)\n",
        "            population[i][\"dropout\"] = np.clip(best_hyperparams[\"dropout\"] + random.uniform(-0.05, 0.05), 0.2, 0.5)\n",
        "\n",
        "    return best_hyperparams\n",
        "\n",
        "# Run ChOA optimization\n",
        "best_params_choa = choa_optimize(num_iterations=10, population_size=5)\n",
        "print(\"Best Hyperparameters Found using ChOA:\", best_params_choa)\n",
        "\n",
        "# Train model using best ChOA hyperparameters\n",
        "choa_model = Sequential([\n",
        "    Dense(best_params_choa[\"neurons\"], activation='relu', input_shape=(X_train.shape[1],)),\n",
        "    Dropout(best_params_choa[\"dropout\"]),\n",
        "    Dense(best_params_choa[\"neurons\"] // 2, activation='relu'),\n",
        "    Dropout(best_params_choa[\"dropout\"] / 2),\n",
        "    Dense(len(np.unique(y)), activation='softmax')\n",
        "])\n",
        "\n",
        "choa_model.compile(optimizer=Adam(learning_rate=best_params_choa[\"learning_rate\"]),\n",
        "                   loss='sparse_categorical_crossentropy',\n",
        "                   metrics=['accuracy'])\n",
        "\n",
        "early_stopping = EarlyStopping(monitor='val_loss', patience=5, restore_best_weights=True)\n",
        "choa_model.fit(X_train, y_train, epochs=50, batch_size=best_params_choa[\"batch_size\"],\n",
        "               validation_data=(X_test, y_test), callbacks=[early_stopping], verbose=1)\n",
        "\n",
        "# Save the trained ChOA model\n",
        "choa_model.save(\"leukemia_classifier_choa.h5\")\n",
        "print(\"Model saved as leukemia_classifier_choa.h5\")\n"
      ]
    },
    {
      "cell_type": "code",
      "source": [
        "from sklearn.preprocessing import StandardScaler\n",
        "import pickle\n",
        "\n",
        "# Load dataset\n",
        "file_path = 'selected_features_fast.csv'\n",
        "df = pd.read_csv(file_path)\n",
        "df = df.iloc[1:].reset_index(drop=True)  # Drop first row (feature names)\n",
        "\n",
        "# Separate features and labels\n",
        "X = df.iloc[:, :-1].values\n",
        "\n",
        "# Recreate and fit scaler\n",
        "scaler = StandardScaler()\n",
        "X_scaled = scaler.fit_transform(X)\n",
        "\n",
        "# Save the scaler\n",
        "with open(\"scaler.pkl\", \"wb\") as f:\n",
        "    pickle.dump(scaler, f)\n",
        "\n",
        "print(\"Scaler saved successfully!\")\n"
      ],
      "metadata": {
        "colab": {
          "base_uri": "https://localhost:8080/"
        },
        "id": "GORP9Eu0m8UI",
        "outputId": "5e963b97-7f52-4025-b801-64d409f494d8"
      },
      "execution_count": null,
      "outputs": [
        {
          "output_type": "stream",
          "name": "stdout",
          "text": [
            "Scaler saved successfully!\n"
          ]
        }
      ]
    },
    {
      "cell_type": "code",
      "source": [
        "from sklearn.preprocessing import LabelEncoder\n",
        "import pickle\n",
        "import pandas as pd\n",
        "\n",
        "# Load dataset\n",
        "file_path = 'selected_features_fast.csv'\n",
        "df = pd.read_csv(file_path)\n",
        "df = df.iloc[1:].reset_index(drop=True)  # Drop first row (feature names)\n",
        "\n",
        "# Extract labels\n",
        "y = df.iloc[:, -1].values\n",
        "\n",
        "# Recreate and fit label encoder\n",
        "label_encoder = LabelEncoder()\n",
        "y_encoded = label_encoder.fit_transform(y)\n",
        "\n",
        "# Save the label encoder\n",
        "with open(\"label_encoder.pkl\", \"wb\") as f:\n",
        "    pickle.dump(label_encoder, f)\n",
        "\n",
        "print(\"Label encoder saved successfully!\")\n"
      ],
      "metadata": {
        "colab": {
          "base_uri": "https://localhost:8080/"
        },
        "id": "Hw0qOLCAnNlx",
        "outputId": "61c2351e-e173-4f0c-f38c-f5c7311368f8"
      },
      "execution_count": null,
      "outputs": [
        {
          "output_type": "stream",
          "name": "stdout",
          "text": [
            "Label encoder saved successfully!\n"
          ]
        }
      ]
    },
    {
      "cell_type": "code",
      "source": [
        "import numpy as np\n",
        "import pandas as pd\n",
        "import tensorflow as tf\n",
        "from tensorflow.keras.models import load_model\n",
        "from sklearn.metrics import accuracy_score, precision_score, recall_score, f1_score, roc_auc_score, confusion_matrix\n",
        "import pickle\n",
        "import matplotlib.pyplot as plt\n",
        "import seaborn as sns\n",
        "\n",
        "# Load dataset\n",
        "file_path = 'selected_features_fast.csv'\n",
        "df = pd.read_csv(file_path)\n",
        "df = df.iloc[1:].reset_index(drop=True)  # Drop first row (feature names)\n",
        "\n",
        "# Separate features and labels\n",
        "X = df.iloc[:, :-1].values\n",
        "y = df.iloc[:, -1].values\n",
        "\n",
        "# Load scaler\n",
        "with open(\"scaler.pkl\", \"rb\") as f:\n",
        "    scaler = pickle.load(f)\n",
        "X = scaler.transform(X)\n",
        "\n",
        "# Load label encoder\n",
        "with open(\"label_encoder.pkl\", \"rb\") as f:\n",
        "    label_encoder = pickle.load(f)\n",
        "y = label_encoder.transform(y)\n",
        "\n",
        "# Split into train and test sets\n",
        "_, X_test, _, y_test = train_test_split(X, y, test_size=0.2, random_state=42)\n",
        "\n",
        "# Load ChOA model\n",
        "choa_model = load_model(\"leukemia_classifier_choa.h5\")\n",
        "\n",
        "# Evaluate on test data\n",
        "loss, acc = choa_model.evaluate(X_test, y_test, verbose=1)\n",
        "print(f\"Test Accuracy: {acc * 100:.2f}%\")\n",
        "\n",
        "# Get predictions\n",
        "y_pred_probs = choa_model.predict(X_test)\n",
        "y_pred = np.argmax(y_pred_probs, axis=1)\n",
        "\n",
        "# Compute metrics\n",
        "accuracy = accuracy_score(y_test, y_pred)\n",
        "precision = precision_score(y_test, y_pred, average='weighted')\n",
        "recall = recall_score(y_test, y_pred, average='weighted')\n",
        "f1 = f1_score(y_test, y_pred, average='weighted')\n",
        "\n",
        "# Compute AUC-ROC (One-vs-Rest approach for multi-class)\n",
        "y_test_one_hot = tf.keras.utils.to_categorical(y_test, num_classes=len(np.unique(y_test)))\n",
        "auc_roc = roc_auc_score(y_test_one_hot, y_pred_probs, multi_class='ovr')\n",
        "\n",
        "# Print results\n",
        "print(f\"Accuracy: {accuracy:.4f}\")\n",
        "print(f\"Precision: {precision:.4f}\")\n",
        "print(f\"Recall: {recall:.4f}\")\n",
        "print(f\"F1-score: {f1:.4f}\")\n",
        "print(f\"AUC-ROC: {auc_roc:.4f}\")\n",
        "\n",
        "# Confusion Matrix\n",
        "cm = confusion_matrix(y_test, y_pred)\n",
        "plt.figure(figsize=(6, 5))\n",
        "sns.heatmap(cm, annot=True, fmt='d', cmap='Blues', xticklabels=label_encoder.classes_, yticklabels=label_encoder.classes_)\n",
        "plt.xlabel(\"Predicted Label\")\n",
        "plt.ylabel(\"True Label\")\n",
        "plt.title(\"Confusion Matrix - ChOA Model\")\n",
        "plt.show()\n"
      ],
      "metadata": {
        "colab": {
          "base_uri": "https://localhost:8080/",
          "height": 673
        },
        "id": "uMnaIZQqmNWZ",
        "outputId": "27cee6c5-76a0-4bc3-9f88-c4e10f8c17e1"
      },
      "execution_count": null,
      "outputs": [
        {
          "output_type": "stream",
          "name": "stderr",
          "text": [
            "WARNING:absl:Compiled the loaded model, but the compiled metrics have yet to be built. `model.compile_metrics` will be empty until you train or evaluate the model.\n"
          ]
        },
        {
          "output_type": "stream",
          "name": "stdout",
          "text": [
            "\u001b[1m82/82\u001b[0m \u001b[32m━━━━━━━━━━━━━━━━━━━━\u001b[0m\u001b[37m\u001b[0m \u001b[1m1s\u001b[0m 2ms/step - accuracy: 0.9871 - loss: 0.0331\n",
            "Test Accuracy: 98.81%\n",
            "\u001b[1m82/82\u001b[0m \u001b[32m━━━━━━━━━━━━━━━━━━━━\u001b[0m\u001b[37m\u001b[0m \u001b[1m0s\u001b[0m 2ms/step\n",
            "Accuracy: 0.9881\n",
            "Precision: 0.9881\n",
            "Recall: 0.9881\n",
            "F1-score: 0.9881\n",
            "AUC-ROC: 0.9998\n"
          ]
        },
        {
          "output_type": "display_data",
          "data": {
            "text/plain": [
              "<Figure size 600x500 with 2 Axes>"
            ],
            "image/png": "[encoded data removed]"
          },
          "metadata": {}
        }
      ]
    },
    {
      "cell_type": "code",
      "source": [
        "from sklearn.model_selection import StratifiedKFold, train_test_split\n",
        "from sklearn.metrics import accuracy_score, precision_score, recall_score, f1_score, roc_auc_score\n",
        "# Define k-fold cross-validation\n",
        "k = 5  # Number of folds\n",
        "skf = StratifiedKFold(n_splits=k, shuffle=True, random_state=42)\n",
        "\n",
        "# Store results\n",
        "accuracy_scores = []\n",
        "precision_scores = []\n",
        "recall_scores = []\n",
        "f1_scores = []\n",
        "auc_scores = []\n",
        "\n",
        "# Perform cross-validation\n",
        "for train_index, val_index in skf.split(X, y):\n",
        "    X_train, X_val = X[train_index], X[val_index]\n",
        "    y_train, y_val = y[train_index], y[val_index]\n",
        "\n",
        "    # Create model using best ChOA hyperparameters\n",
        "    model = Sequential([\n",
        "        Dense(best_params_choa[\"neurons\"], activation='relu', input_shape=(X_train.shape[1],)),\n",
        "        Dropout(best_params_choa[\"dropout\"]),\n",
        "        Dense(best_params_choa[\"neurons\"] // 2, activation='relu'),\n",
        "        Dropout(best_params_choa[\"dropout\"] / 2),\n",
        "        Dense(len(np.unique(y)), activation='softmax')  # Output layer\n",
        "    ])\n",
        "\n",
        "    model.compile(optimizer=Adam(learning_rate=best_params_choa[\"learning_rate\"]),\n",
        "                  loss='sparse_categorical_crossentropy',\n",
        "                  metrics=['accuracy'])\n",
        "\n",
        "    # Train model\n",
        "    model.fit(X_train, y_train, epochs=50, batch_size=best_params_choa[\"batch_size\"],\n",
        "              validation_data=(X_val, y_val), verbose=0)\n",
        "\n",
        "    # Predictions\n",
        "    y_pred = model.predict(X_val)\n",
        "    y_pred_classes = np.argmax(y_pred, axis=1)\n",
        "\n",
        "    # Compute metrics for this fold\n",
        "    accuracy_scores.append(accuracy_score(y_val, y_pred_classes))\n",
        "    precision_scores.append(precision_score(y_val, y_pred_classes, average=\"weighted\"))\n",
        "    recall_scores.append(recall_score(y_val, y_pred_classes, average=\"weighted\"))\n",
        "    f1_scores.append(f1_score(y_val, y_pred_classes, average=\"weighted\"))\n",
        "    auc_scores.append(roc_auc_score(y_val, y_pred, multi_class=\"ovr\"))\n",
        "\n",
        "# Print averaged results\n",
        "print(f\"Cross-Validation Results (k={k}):\")\n",
        "print(f\"Accuracy: {np.mean(accuracy_scores):.4f} ± {np.std(accuracy_scores):.4f}\")\n",
        "print(f\"Precision: {np.mean(precision_scores):.4f} ± {np.std(precision_scores):.4f}\")\n",
        "print(f\"Recall: {np.mean(recall_scores):.4f} ± {np.std(recall_scores):.4f}\")\n",
        "print(f\"F1-score: {np.mean(f1_scores):.4f} ± {np.std(f1_scores):.4f}\")\n",
        "print(f\"AUC-ROC: {np.mean(auc_scores):.4f} ± {np.std(auc_scores):.4f}\")"
      ],
      "metadata": {
        "colab": {
          "base_uri": "https://localhost:8080/"
        },
        "id": "tcwZYHj0myMR",
        "outputId": "0bcb8e9c-5836-4d20-f655-28c08b11c25d"
      },
      "execution_count": null,
      "outputs": [
        {
          "output_type": "stream",
          "name": "stderr",
          "text": [
            "/usr/local/lib/python3.11/dist-packages/keras/src/layers/core/dense.py:87: UserWarning: Do not pass an `input_shape`/`input_dim` argument to a layer. When using Sequential models, prefer using an `Input(shape)` object as the first layer in the model instead.\n",
            "  super().__init__(activity_regularizer=activity_regularizer, **kwargs)\n"
          ]
        },
        {
          "output_type": "stream",
          "name": "stdout",
          "text": [
            "\u001b[1m82/82\u001b[0m \u001b[32m━━━━━━━━━━━━━━━━━━━━\u001b[0m\u001b[37m\u001b[0m \u001b[1m0s\u001b[0m 2ms/step\n"
          ]
        },
        {
          "output_type": "stream",
          "name": "stderr",
          "text": [
            "/usr/local/lib/python3.11/dist-packages/keras/src/layers/core/dense.py:87: UserWarning: Do not pass an `input_shape`/`input_dim` argument to a layer. When using Sequential models, prefer using an `Input(shape)` object as the first layer in the model instead.\n",
            "  super().__init__(activity_regularizer=activity_regularizer, **kwargs)\n"
          ]
        },
        {
          "output_type": "stream",
          "name": "stdout",
          "text": [
            "\u001b[1m82/82\u001b[0m \u001b[32m━━━━━━━━━━━━━━━━━━━━\u001b[0m\u001b[37m\u001b[0m \u001b[1m0s\u001b[0m 2ms/step\n"
          ]
        },
        {
          "output_type": "stream",
          "name": "stderr",
          "text": [
            "/usr/local/lib/python3.11/dist-packages/keras/src/layers/core/dense.py:87: UserWarning: Do not pass an `input_shape`/`input_dim` argument to a layer. When using Sequential models, prefer using an `Input(shape)` object as the first layer in the model instead.\n",
            "  super().__init__(activity_regularizer=activity_regularizer, **kwargs)\n"
          ]
        },
        {
          "output_type": "stream",
          "name": "stdout",
          "text": [
            "\u001b[1m82/82\u001b[0m \u001b[32m━━━━━━━━━━━━━━━━━━━━\u001b[0m\u001b[37m\u001b[0m \u001b[1m0s\u001b[0m 2ms/step\n"
          ]
        },
        {
          "output_type": "stream",
          "name": "stderr",
          "text": [
            "/usr/local/lib/python3.11/dist-packages/keras/src/layers/core/dense.py:87: UserWarning: Do not pass an `input_shape`/`input_dim` argument to a layer. When using Sequential models, prefer using an `Input(shape)` object as the first layer in the model instead.\n",
            "  super().__init__(activity_regularizer=activity_regularizer, **kwargs)\n"
          ]
        },
        {
          "output_type": "stream",
          "name": "stdout",
          "text": [
            "\u001b[1m82/82\u001b[0m \u001b[32m━━━━━━━━━━━━━━━━━━━━\u001b[0m\u001b[37m\u001b[0m \u001b[1m0s\u001b[0m 2ms/step\n"
          ]
        },
        {
          "output_type": "stream",
          "name": "stderr",
          "text": [
            "/usr/local/lib/python3.11/dist-packages/keras/src/layers/core/dense.py:87: UserWarning: Do not pass an `input_shape`/`input_dim` argument to a layer. When using Sequential models, prefer using an `Input(shape)` object as the first layer in the model instead.\n",
            "  super().__init__(activity_regularizer=activity_regularizer, **kwargs)\n"
          ]
        },
        {
          "output_type": "stream",
          "name": "stdout",
          "text": [
            "\u001b[1m82/82\u001b[0m \u001b[32m━━━━━━━━━━━━━━━━━━━━\u001b[0m\u001b[37m\u001b[0m \u001b[1m0s\u001b[0m 2ms/step\n",
            "Cross-Validation Results (k=5):\n",
            "Accuracy: 0.9906 ± 0.0006\n",
            "Precision: 0.9906 ± 0.0006\n",
            "Recall: 0.9906 ± 0.0006\n",
            "F1-score: 0.9906 ± 0.0006\n",
            "AUC-ROC: 0.9997 ± 0.0001\n"
          ]
        }
      ]
    },
    {
      "cell_type": "code",
      "source": [],
      "metadata": {
        "id": "xtFeSqHApdjP"
      },
      "execution_count": null,
      "outputs": []
    }
  ]
}