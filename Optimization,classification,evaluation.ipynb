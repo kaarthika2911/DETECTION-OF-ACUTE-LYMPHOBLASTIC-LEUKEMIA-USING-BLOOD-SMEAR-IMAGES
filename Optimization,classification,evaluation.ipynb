{
  "nbformat": 4,
  "nbformat_minor": 0,
  "metadata": {
    "colab": {
      "provenance": [],
      "gpuType": "T4"
    },
    "kernelspec": {
      "name": "python3",
      "display_name": "Python 3"
    },
    "language_info": {
      "name": "python"
    },
    "accelerator": "GPU"
  },
  "cells": [
    {
      "cell_type": "code",
      "execution_count": 14,
      "metadata": {
        "id": "KZF8JwABkjxZ"
      },
      "outputs": [],
      "source": [
        "import numpy as np\n",
        "import pandas as pd\n",
        "import tensorflow as tf\n",
        "from tensorflow.keras.models import Sequential, load_model\n",
        "from tensorflow.keras.layers import Dense, Dropout\n",
        "from tensorflow.keras.optimizers import Adam\n",
        "from tensorflow.keras.callbacks import EarlyStopping\n",
        "from sklearn.preprocessing import StandardScaler, LabelEncoder\n",
        "from sklearn.model_selection import train_test_split\n",
        "import pickle\n",
        "import random"
      ]
    },
    {
      "cell_type": "code",
      "source": [
        "# Load dataset\n",
        "file_path = 'selected_features_fast.csv'\n",
        "df = pd.read_csv(file_path)\n",
        "\n",
        "# Drop first row (feature names)\n",
        "df = df.iloc[1:].reset_index(drop=True)\n",
        "\n",
        "# Separate features and labels\n",
        "X = df.iloc[:, :-1].values\n",
        "y = df.iloc[:, -1].values\n",
        "\n",
        "# Encode labels (\"Benign\", \"Early\", \"Pre\", \"Pro\")\n",
        "label_encoder = LabelEncoder()\n",
        "y = label_encoder.fit_transform(y)\n",
        "\n",
        "# Normalize features\n",
        "scaler = StandardScaler()\n",
        "X = scaler.fit_transform(X)\n",
        "\n",
        "# Split into train and test sets (80% train, 20% test)\n",
        "X_train, X_test, y_train, y_test = train_test_split(X, y, test_size=0.2, random_state=42)\n",
        "\n",
        "# Save scaler for later use\n",
        "with open(\"scaler.pkl\", \"wb\") as f:\n",
        "    pickle.dump(scaler, f)"
      ],
      "metadata": {
        "id": "Y7H54YQPlHh3"
      },
      "execution_count": 15,
      "outputs": []
    },
    {
      "cell_type": "code",
      "source": [
        "print(f\"Size of X_train: {X_train.shape}\")\n",
        "print(f\"Size of y_train: {y_train.shape}\")\n"
      ],
      "metadata": {
        "colab": {
          "base_uri": "https://localhost:8080/"
        },
        "id": "rfSpiD4apDOP",
        "outputId": "f8085340-da6f-4f7e-a360-d87adecdcb0c"
      },
      "execution_count": 16,
      "outputs": [
        {
          "output_type": "stream",
          "name": "stdout",
          "text": [
            "Size of X_train: (10418, 146)\n",
            "Size of y_train: (10418,)\n"
          ]
        }
      ]
    },
    {
      "cell_type": "code",
      "source": [
        "# Define search space for hyperparameters\n",
        "def generate_random_hyperparams():\n",
        "    return {\n",
        "        \"learning_rate\": random.uniform(0.0001, 0.01),\n",
        "        \"neurons\": random.choice([64, 128, 256]),\n",
        "        \"dropout\": random.uniform(0.2, 0.5),\n",
        "        \"batch_size\": random.choice([32, 64, 128])\n",
        "    }"
      ],
      "metadata": {
        "id": "tJvl7GV2dqW2"
      },
      "execution_count": 17,
      "outputs": []
    },
    {
      "cell_type": "code",
      "source": [
        "# Horse Herd Whale Optimization (HHWO) for hyperparameter tuning\n",
        "def hhwo_optimize(num_iterations=10, herd_size=5):\n",
        "    \"\"\"\n",
        "    Implements Horse Herd Whale Optimization (HHWO) for hyperparameter tuning.\n",
        "    - Uses random exploration (horse herd movement).\n",
        "    - Uses exploitation (whale hunting behavior) to refine solutions.\n",
        "    \"\"\"\n",
        "    best_hyperparams = None\n",
        "    best_accuracy = 0\n",
        "\n",
        "    # Initialize herd (randomly generated hyperparameters)\n",
        "    herd = [generate_random_hyperparams() for _ in range(herd_size)]\n",
        "\n",
        "    for iteration in range(num_iterations):\n",
        "        print(f\"Iteration {iteration+1}/{num_iterations}\")\n",
        "\n",
        "        # Evaluate each horse (candidate solution)\n",
        "        for i in range(herd_size):\n",
        "            params = herd[i]\n",
        "\n",
        "            # Create FCNN model\n",
        "            model = Sequential([\n",
        "                Dense(params[\"neurons\"], activation='relu', input_shape=(X_train.shape[1],)),\n",
        "                Dropout(params[\"dropout\"]),\n",
        "                Dense(params[\"neurons\"] // 2, activation='relu'),\n",
        "                Dropout(params[\"dropout\"] / 2),\n",
        "                Dense(len(np.unique(y)), activation='softmax')  # Output layer\n",
        "            ])\n",
        "\n",
        "            model.compile(optimizer=Adam(learning_rate=params[\"learning_rate\"]),\n",
        "                          loss='sparse_categorical_crossentropy',\n",
        "                          metrics=['accuracy'])\n",
        "\n",
        "            # Train model with early stopping\n",
        "            early_stopping = EarlyStopping(monitor='val_loss', patience=3, restore_best_weights=True)\n",
        "            model.fit(X_train, y_train, epochs=10, batch_size=params[\"batch_size\"],\n",
        "                      validation_split=0.2, callbacks=[early_stopping], verbose=0)\n",
        "\n",
        "            # Evaluate on test set\n",
        "            _, accuracy = model.evaluate(X_test, y_test, verbose=0)\n",
        "\n",
        "            # Update the best solution\n",
        "            if accuracy > best_accuracy:\n",
        "                best_accuracy = accuracy\n",
        "                best_hyperparams = params\n",
        "\n",
        "        # Exploitation step (whale behavior) - update herd based on the best solution\n",
        "        for i in range(herd_size):\n",
        "            herd[i] = {\n",
        "                \"learning_rate\": np.clip(best_hyperparams[\"learning_rate\"] + random.uniform(-0.001, 0.001), 0.0001, 0.01),\n",
        "                \"neurons\": best_hyperparams[\"neurons\"],\n",
        "                \"dropout\": np.clip(best_hyperparams[\"dropout\"] + random.uniform(-0.05, 0.05), 0.2, 0.5),\n",
        "                \"batch_size\": best_hyperparams[\"batch_size\"]\n",
        "            }\n",
        "\n",
        "    return best_hyperparams\n",
        "\n",
        "# Run HHWO optimization\n",
        "best_params = hhwo_optimize(num_iterations=10, herd_size=5)\n",
        "print(\"Best Hyperparameters Found:\", best_params)"
      ],
      "metadata": {
        "colab": {
          "base_uri": "https://localhost:8080/"
        },
        "id": "jH6zrKzfdrZx",
        "outputId": "33d7c153-919a-440d-8331-11edf28d780b"
      },
      "execution_count": 18,
      "outputs": [
        {
          "output_type": "stream",
          "name": "stdout",
          "text": [
            "Iteration 1/10\n"
          ]
        },
        {
          "output_type": "stream",
          "name": "stderr",
          "text": [
            "/usr/local/lib/python3.11/dist-packages/keras/src/layers/core/dense.py:87: UserWarning: Do not pass an `input_shape`/`input_dim` argument to a layer. When using Sequential models, prefer using an `Input(shape)` object as the first layer in the model instead.\n",
            "  super().__init__(activity_regularizer=activity_regularizer, **kwargs)\n"
          ]
        },
        {
          "output_type": "stream",
          "name": "stdout",
          "text": [
            "Iteration 2/10\n",
            "Iteration 3/10\n",
            "Iteration 4/10\n",
            "Iteration 5/10\n",
            "Iteration 6/10\n",
            "Iteration 7/10\n",
            "Iteration 8/10\n",
            "Iteration 9/10\n",
            "Iteration 10/10\n",
            "Best Hyperparameters Found: {'learning_rate': 0.001484103987674853, 'neurons': 256, 'dropout': 0.2247858222239084, 'batch_size': 128}\n"
          ]
        }
      ]
    },
    {
      "cell_type": "code",
      "source": [
        "# Train final model using best hyperparameters\n",
        "final_model = Sequential([\n",
        "    Dense(best_params[\"neurons\"], activation='relu', input_shape=(X_train.shape[1],)),\n",
        "    Dropout(best_params[\"dropout\"]),\n",
        "    Dense(best_params[\"neurons\"] // 2, activation='relu'),\n",
        "    Dropout(best_params[\"dropout\"] / 2),\n",
        "    Dense(len(np.unique(y)), activation='softmax')  # Output layer\n",
        "])\n",
        "\n",
        "final_model.compile(optimizer=Adam(learning_rate=best_params[\"learning_rate\"]),\n",
        "                    loss='sparse_categorical_crossentropy',\n",
        "                    metrics=['accuracy'])\n",
        "\n",
        "# Train with early stopping\n",
        "early_stopping = EarlyStopping(monitor='val_loss', patience=5, restore_best_weights=True)\n",
        "final_model.fit(X_train, y_train, epochs=50, batch_size=best_params[\"batch_size\"],\n",
        "                validation_data=(X_test, y_test), callbacks=[early_stopping], verbose=1)\n",
        "\n",
        "# Save the trained model\n",
        "final_model.save(\"leukemia_classifier_hhwo.h5\")\n",
        "print(\"Model saved as leukemia_classifier_hhwo.h5\")\n",
        "\n",
        "# Save label encoder\n",
        "with open(\"label_encoder.pkl\", \"wb\") as f:\n",
        "    pickle.dump(label_encoder, f)"
      ],
      "metadata": {
        "colab": {
          "base_uri": "https://localhost:8080/"
        },
        "id": "DWzeGB9Ydvz6",
        "outputId": "bd163c7b-95b7-44aa-93a6-667596f66c5a"
      },
      "execution_count": 19,
      "outputs": [
        {
          "output_type": "stream",
          "name": "stdout",
          "text": [
            "Epoch 1/50\n",
            "\u001b[1m82/82\u001b[0m \u001b[32m━━━━━━━━━━━━━━━━━━━━\u001b[0m\u001b[37m\u001b[0m \u001b[1m5s\u001b[0m 31ms/step - accuracy: 0.8386 - loss: 0.4065 - val_accuracy: 0.9747 - val_loss: 0.0782\n",
            "Epoch 2/50\n",
            "\u001b[1m82/82\u001b[0m \u001b[32m━━━━━━━━━━━━━━━━━━━━\u001b[0m\u001b[37m\u001b[0m \u001b[1m0s\u001b[0m 3ms/step - accuracy: 0.9753 - loss: 0.0751 - val_accuracy: 0.9789 - val_loss: 0.0596\n",
            "Epoch 3/50\n",
            "\u001b[1m82/82\u001b[0m \u001b[32m━━━━━━━━━━━━━━━━━━━━\u001b[0m\u001b[37m\u001b[0m \u001b[1m0s\u001b[0m 4ms/step - accuracy: 0.9844 - loss: 0.0493 - val_accuracy: 0.9843 - val_loss: 0.0441\n",
            "Epoch 4/50\n",
            "\u001b[1m82/82\u001b[0m \u001b[32m━━━━━━━━━━━━━━━━━━━━\u001b[0m\u001b[37m\u001b[0m \u001b[1m0s\u001b[0m 4ms/step - accuracy: 0.9880 - loss: 0.0357 - val_accuracy: 0.9846 - val_loss: 0.0399\n",
            "Epoch 5/50\n",
            "\u001b[1m82/82\u001b[0m \u001b[32m━━━━━━━━━━━━━━━━━━━━\u001b[0m\u001b[37m\u001b[0m \u001b[1m0s\u001b[0m 4ms/step - accuracy: 0.9903 - loss: 0.0262 - val_accuracy: 0.9866 - val_loss: 0.0344\n",
            "Epoch 6/50\n",
            "\u001b[1m82/82\u001b[0m \u001b[32m━━━━━━━━━━━━━━━━━━━━\u001b[0m\u001b[37m\u001b[0m \u001b[1m0s\u001b[0m 3ms/step - accuracy: 0.9935 - loss: 0.0183 - val_accuracy: 0.9839 - val_loss: 0.0513\n",
            "Epoch 7/50\n",
            "\u001b[1m82/82\u001b[0m \u001b[32m━━━━━━━━━━━━━━━━━━━━\u001b[0m\u001b[37m\u001b[0m \u001b[1m0s\u001b[0m 4ms/step - accuracy: 0.9931 - loss: 0.0194 - val_accuracy: 0.9846 - val_loss: 0.0433\n",
            "Epoch 8/50\n",
            "\u001b[1m82/82\u001b[0m \u001b[32m━━━━━━━━━━━━━━━━━━━━\u001b[0m\u001b[37m\u001b[0m \u001b[1m1s\u001b[0m 4ms/step - accuracy: 0.9936 - loss: 0.0174 - val_accuracy: 0.9885 - val_loss: 0.0339\n",
            "Epoch 9/50\n",
            "\u001b[1m82/82\u001b[0m \u001b[32m━━━━━━━━━━━━━━━━━━━━\u001b[0m\u001b[37m\u001b[0m \u001b[1m1s\u001b[0m 3ms/step - accuracy: 0.9947 - loss: 0.0156 - val_accuracy: 0.9896 - val_loss: 0.0364\n",
            "Epoch 10/50\n",
            "\u001b[1m82/82\u001b[0m \u001b[32m━━━━━━━━━━━━━━━━━━━━\u001b[0m\u001b[37m\u001b[0m \u001b[1m0s\u001b[0m 3ms/step - accuracy: 0.9944 - loss: 0.0124 - val_accuracy: 0.9873 - val_loss: 0.0366\n",
            "Epoch 11/50\n",
            "\u001b[1m82/82\u001b[0m \u001b[32m━━━━━━━━━━━━━━━━━━━━\u001b[0m\u001b[37m\u001b[0m \u001b[1m0s\u001b[0m 4ms/step - accuracy: 0.9965 - loss: 0.0100 - val_accuracy: 0.9885 - val_loss: 0.0331\n",
            "Epoch 12/50\n",
            "\u001b[1m82/82\u001b[0m \u001b[32m━━━━━━━━━━━━━━━━━━━━\u001b[0m\u001b[37m\u001b[0m \u001b[1m0s\u001b[0m 5ms/step - accuracy: 0.9956 - loss: 0.0118 - val_accuracy: 0.9904 - val_loss: 0.0288\n",
            "Epoch 13/50\n",
            "\u001b[1m82/82\u001b[0m \u001b[32m━━━━━━━━━━━━━━━━━━━━\u001b[0m\u001b[37m\u001b[0m \u001b[1m0s\u001b[0m 6ms/step - accuracy: 0.9958 - loss: 0.0108 - val_accuracy: 0.9858 - val_loss: 0.0460\n",
            "Epoch 14/50\n",
            "\u001b[1m82/82\u001b[0m \u001b[32m━━━━━━━━━━━━━━━━━━━━\u001b[0m\u001b[37m\u001b[0m \u001b[1m1s\u001b[0m 6ms/step - accuracy: 0.9961 - loss: 0.0115 - val_accuracy: 0.9912 - val_loss: 0.0283\n",
            "Epoch 15/50\n",
            "\u001b[1m82/82\u001b[0m \u001b[32m━━━━━━━━━━━━━━━━━━━━\u001b[0m\u001b[37m\u001b[0m \u001b[1m1s\u001b[0m 5ms/step - accuracy: 0.9972 - loss: 0.0073 - val_accuracy: 0.9893 - val_loss: 0.0414\n",
            "Epoch 16/50\n",
            "\u001b[1m82/82\u001b[0m \u001b[32m━━━━━━━━━━━━━━━━━━━━\u001b[0m\u001b[37m\u001b[0m \u001b[1m0s\u001b[0m 3ms/step - accuracy: 0.9961 - loss: 0.0094 - val_accuracy: 0.9919 - val_loss: 0.0339\n",
            "Epoch 17/50\n",
            "\u001b[1m82/82\u001b[0m \u001b[32m━━━━━━━━━━━━━━━━━━━━\u001b[0m\u001b[37m\u001b[0m \u001b[1m0s\u001b[0m 3ms/step - accuracy: 0.9979 - loss: 0.0078 - val_accuracy: 0.9881 - val_loss: 0.0495\n",
            "Epoch 18/50\n",
            "\u001b[1m82/82\u001b[0m \u001b[32m━━━━━━━━━━━━━━━━━━━━\u001b[0m\u001b[37m\u001b[0m \u001b[1m1s\u001b[0m 4ms/step - accuracy: 0.9976 - loss: 0.0072 - val_accuracy: 0.9927 - val_loss: 0.0289\n",
            "Epoch 19/50\n",
            "\u001b[1m82/82\u001b[0m \u001b[32m━━━━━━━━━━━━━━━━━━━━\u001b[0m\u001b[37m\u001b[0m \u001b[1m1s\u001b[0m 4ms/step - accuracy: 0.9984 - loss: 0.0054 - val_accuracy: 0.9885 - val_loss: 0.0376\n"
          ]
        },
        {
          "output_type": "stream",
          "name": "stderr",
          "text": [
            "WARNING:absl:You are saving your model as an HDF5 file via `model.save()` or `keras.saving.save_model(model)`. This file format is considered legacy. We recommend using instead the native Keras format, e.g. `model.save('my_model.keras')` or `keras.saving.save_model(model, 'my_model.keras')`. \n"
          ]
        },
        {
          "output_type": "stream",
          "name": "stdout",
          "text": [
            "Model saved as leukemia_classifier_hhwo.h5\n"
          ]
        }
      ]
    },
    {
      "cell_type": "code",
      "source": [
        "# Load the saved model\n",
        "loaded_model = load_model(\"leukemia_classifier_hhwo.h5\")\n",
        "\n",
        "# Load the scaler\n",
        "with open(\"scaler.pkl\", \"rb\") as f:\n",
        "    loaded_scaler = pickle.load(f)\n",
        "\n",
        "# Load the label encoder\n",
        "with open(\"label_encoder.pkl\", \"rb\") as f:\n",
        "    loaded_label_encoder = pickle.load(f)\n",
        "\n",
        "# Evaluate on test data\n",
        "loss, acc = loaded_model.evaluate(X_test, y_test, verbose=1)\n",
        "print(f\"Test Accuracy: {acc * 100:.2f}%\")"
      ],
      "metadata": {
        "colab": {
          "base_uri": "https://localhost:8080/"
        },
        "id": "Ek7MjPGEd2lS",
        "outputId": "165fa878-7e92-47ce-e751-b029294bb2c1"
      },
      "execution_count": 20,
      "outputs": [
        {
          "output_type": "stream",
          "name": "stderr",
          "text": [
            "WARNING:absl:Compiled the loaded model, but the compiled metrics have yet to be built. `model.compile_metrics` will be empty until you train or evaluate the model.\n"
          ]
        },
        {
          "output_type": "stream",
          "name": "stdout",
          "text": [
            "\u001b[1m82/82\u001b[0m \u001b[32m━━━━━━━━━━━━━━━━━━━━\u001b[0m\u001b[37m\u001b[0m \u001b[1m1s\u001b[0m 4ms/step - accuracy: 0.9888 - loss: 0.0359\n",
            "Test Accuracy: 99.12%\n"
          ]
        }
      ]
    },
    {
      "cell_type": "code",
      "source": [
        "from sklearn.metrics import accuracy_score, precision_score, recall_score, f1_score, roc_auc_score\n",
        "import numpy as np\n",
        "\n",
        "y_pred_probs = loaded_model.predict(X_test)\n",
        "y_pred = np.argmax(y_pred_probs, axis=1)\n",
        "\n",
        "# Compute metrics\n",
        "accuracy = accuracy_score(y_test, y_pred)\n",
        "precision = precision_score(y_test, y_pred, average='weighted')\n",
        "recall = recall_score(y_test, y_pred, average='weighted')\n",
        "f1 = f1_score(y_test, y_pred, average='weighted')\n",
        "\n",
        "# Compute AUC-ROC (One-vs-Rest approach for multi-class)\n",
        "y_test_one_hot = tf.keras.utils.to_categorical(y_test, num_classes=len(np.unique(y_test)))\n",
        "auc_roc = roc_auc_score(y_test_one_hot, y_pred_probs, multi_class='ovr')\n",
        "\n",
        "# Print results\n",
        "print(f\"Accuracy: {accuracy:.4f}\")\n",
        "print(f\"Precision: {precision:.4f}\")\n",
        "print(f\"Recall: {recall:.4f}\")\n",
        "print(f\"F1-score: {f1:.4f}\")\n",
        "print(f\"AUC-ROC: {auc_roc:.4f}\")"
      ],
      "metadata": {
        "colab": {
          "base_uri": "https://localhost:8080/"
        },
        "id": "eMR75McZklOM",
        "outputId": "63ba1f69-7a20-41ea-86e9-9c5e6ae9c892"
      },
      "execution_count": 22,
      "outputs": [
        {
          "output_type": "stream",
          "name": "stdout",
          "text": [
            "\u001b[1m82/82\u001b[0m \u001b[32m━━━━━━━━━━━━━━━━━━━━\u001b[0m\u001b[37m\u001b[0m \u001b[1m0s\u001b[0m 3ms/step\n",
            "Accuracy: 0.9912\n",
            "Precision: 0.9912\n",
            "Recall: 0.9912\n",
            "F1-score: 0.9912\n",
            "AUC-ROC: 0.9998\n"
          ]
        }
      ]
    },
    {
      "cell_type": "code",
      "source": [
        "import matplotlib.pyplot as plt\n",
        "import seaborn as sns\n",
        "from sklearn.metrics import confusion_matrix\n",
        "\n",
        "# Get predictions\n",
        "y_pred_probs = loaded_model.predict(X_test)  # Probabilities for each class\n",
        "y_pred = np.argmax(y_pred_probs, axis=1)  # Convert to class labels\n",
        "\n",
        "# 1️⃣ **Confusion Matrix**\n",
        "cm = confusion_matrix(y_test, y_pred)\n",
        "plt.figure(figsize=(6, 5))\n",
        "sns.heatmap(cm, annot=True, fmt='d', cmap='Blues', xticklabels=loaded_label_encoder.classes_, yticklabels=loaded_label_encoder.classes_)\n",
        "plt.xlabel(\"Predicted Label\")\n",
        "plt.ylabel(\"True Label\")\n",
        "plt.title(\"Confusion Matrix\")\n",
        "plt.show()"
      ],
      "metadata": {
        "colab": {
          "base_uri": "https://localhost:8080/",
          "height": 504
        },
        "id": "gk0gMQAela_G",
        "outputId": "a81e382f-c3f1-40a0-8e0e-5806519bf3bf"
      },
      "execution_count": 25,
      "outputs": [
        {
          "output_type": "stream",
          "name": "stdout",
          "text": [
            "\u001b[1m82/82\u001b[0m \u001b[32m━━━━━━━━━━━━━━━━━━━━\u001b[0m\u001b[37m\u001b[0m \u001b[1m0s\u001b[0m 3ms/step\n"
          ]
        },
        {
          "output_type": "display_data",
          "data": {
            "text/plain": [
              "<Figure size 600x500 with 2 Axes>"
            ],
            "image/png": "[encoded data removed]"
          },
          "metadata": {}
        }
      ]
    },
    {
      "cell_type": "code",
      "source": [
        "from sklearn.model_selection import StratifiedKFold\n",
        "from sklearn.metrics import accuracy_score, precision_score, recall_score, f1_score, roc_auc_score\n",
        "\n",
        "# Define k-fold cross-validation\n",
        "k = 5  # Number of folds\n",
        "skf = StratifiedKFold(n_splits=k, shuffle=True, random_state=42)\n",
        "\n",
        "# Store results\n",
        "accuracy_scores = []\n",
        "precision_scores = []\n",
        "recall_scores = []\n",
        "f1_scores = []\n",
        "auc_scores = []\n",
        "\n",
        "# Perform cross-validation\n",
        "for train_index, val_index in skf.split(X, y):\n",
        "    X_train, X_val = X[train_index], X[val_index]\n",
        "    y_train, y_val = y[train_index], y[val_index]\n",
        "\n",
        "    # Create model\n",
        "    model = Sequential([\n",
        "        Dense(best_params[\"neurons\"], activation='relu', input_shape=(X_train.shape[1],)),\n",
        "        Dropout(best_params[\"dropout\"]),\n",
        "        Dense(best_params[\"neurons\"] // 2, activation='relu'),\n",
        "        Dropout(best_params[\"dropout\"] / 2),\n",
        "        Dense(len(np.unique(y)), activation='softmax')  # Output layer\n",
        "    ])\n",
        "\n",
        "    model.compile(optimizer=Adam(learning_rate=best_params[\"learning_rate\"]),\n",
        "                  loss='sparse_categorical_crossentropy',\n",
        "                  metrics=['accuracy'])\n",
        "\n",
        "    # Train model\n",
        "    model.fit(X_train, y_train, epochs=50, batch_size=best_params[\"batch_size\"],\n",
        "              validation_data=(X_val, y_val), verbose=0)\n",
        "\n",
        "    # Predictions\n",
        "    y_pred = model.predict(X_val)\n",
        "    y_pred_classes = np.argmax(y_pred, axis=1)\n",
        "\n",
        "    # Compute metrics for this fold\n",
        "    accuracy_scores.append(accuracy_score(y_val, y_pred_classes))\n",
        "    precision_scores.append(precision_score(y_val, y_pred_classes, average=\"weighted\"))\n",
        "    recall_scores.append(recall_score(y_val, y_pred_classes, average=\"weighted\"))\n",
        "    f1_scores.append(f1_score(y_val, y_pred_classes, average=\"weighted\"))\n",
        "    auc_scores.append(roc_auc_score(y_val, y_pred, multi_class=\"ovr\"))\n",
        "\n",
        "# Print averaged results\n",
        "print(f\"Cross-Validation Results (k={k}):\")\n",
        "print(f\"Accuracy: {np.mean(accuracy_scores):.4f} ± {np.std(accuracy_scores):.4f}\")\n",
        "print(f\"Precision: {np.mean(precision_scores):.4f} ± {np.std(precision_scores):.4f}\")\n",
        "print(f\"Recall: {np.mean(recall_scores):.4f} ± {np.std(recall_scores):.4f}\")\n",
        "print(f\"F1-score: {np.mean(f1_scores):.4f} ± {np.std(f1_scores):.4f}\")\n",
        "print(f\"AUC-ROC: {np.mean(auc_scores):.4f} ± {np.std(auc_scores):.4f}\")"
      ],
      "metadata": {
        "colab": {
          "base_uri": "https://localhost:8080/"
        },
        "id": "pYle_q1bmlh3",
        "outputId": "817fb43e-282c-432a-b614-a81ecbbbe592"
      },
      "execution_count": 26,
      "outputs": [
        {
          "output_type": "stream",
          "name": "stderr",
          "text": [
            "/usr/local/lib/python3.11/dist-packages/keras/src/layers/core/dense.py:87: UserWarning: Do not pass an `input_shape`/`input_dim` argument to a layer. When using Sequential models, prefer using an `Input(shape)` object as the first layer in the model instead.\n",
            "  super().__init__(activity_regularizer=activity_regularizer, **kwargs)\n"
          ]
        },
        {
          "output_type": "stream",
          "name": "stdout",
          "text": [
            "\u001b[1m82/82\u001b[0m \u001b[32m━━━━━━━━━━━━━━━━━━━━\u001b[0m\u001b[37m\u001b[0m \u001b[1m0s\u001b[0m 3ms/step\n"
          ]
        },
        {
          "output_type": "stream",
          "name": "stderr",
          "text": [
            "/usr/local/lib/python3.11/dist-packages/keras/src/layers/core/dense.py:87: UserWarning: Do not pass an `input_shape`/`input_dim` argument to a layer. When using Sequential models, prefer using an `Input(shape)` object as the first layer in the model instead.\n",
            "  super().__init__(activity_regularizer=activity_regularizer, **kwargs)\n"
          ]
        },
        {
          "output_type": "stream",
          "name": "stdout",
          "text": [
            "\u001b[1m82/82\u001b[0m \u001b[32m━━━━━━━━━━━━━━━━━━━━\u001b[0m\u001b[37m\u001b[0m \u001b[1m0s\u001b[0m 3ms/step\n"
          ]
        },
        {
          "output_type": "stream",
          "name": "stderr",
          "text": [
            "/usr/local/lib/python3.11/dist-packages/keras/src/layers/core/dense.py:87: UserWarning: Do not pass an `input_shape`/`input_dim` argument to a layer. When using Sequential models, prefer using an `Input(shape)` object as the first layer in the model instead.\n",
            "  super().__init__(activity_regularizer=activity_regularizer, **kwargs)\n"
          ]
        },
        {
          "output_type": "stream",
          "name": "stdout",
          "text": [
            "\u001b[1m82/82\u001b[0m \u001b[32m━━━━━━━━━━━━━━━━━━━━\u001b[0m\u001b[37m\u001b[0m \u001b[1m0s\u001b[0m 3ms/step\n"
          ]
        },
        {
          "output_type": "stream",
          "name": "stderr",
          "text": [
            "/usr/local/lib/python3.11/dist-packages/keras/src/layers/core/dense.py:87: UserWarning: Do not pass an `input_shape`/`input_dim` argument to a layer. When using Sequential models, prefer using an `Input(shape)` object as the first layer in the model instead.\n",
            "  super().__init__(activity_regularizer=activity_regularizer, **kwargs)\n"
          ]
        },
        {
          "output_type": "stream",
          "name": "stdout",
          "text": [
            "\u001b[1m82/82\u001b[0m \u001b[32m━━━━━━━━━━━━━━━━━━━━\u001b[0m\u001b[37m\u001b[0m \u001b[1m1s\u001b[0m 5ms/step\n"
          ]
        },
        {
          "output_type": "stream",
          "name": "stderr",
          "text": [
            "/usr/local/lib/python3.11/dist-packages/keras/src/layers/core/dense.py:87: UserWarning: Do not pass an `input_shape`/`input_dim` argument to a layer. When using Sequential models, prefer using an `Input(shape)` object as the first layer in the model instead.\n",
            "  super().__init__(activity_regularizer=activity_regularizer, **kwargs)\n"
          ]
        },
        {
          "output_type": "stream",
          "name": "stdout",
          "text": [
            "\u001b[1m82/82\u001b[0m \u001b[32m━━━━━━━━━━━━━━━━━━━━\u001b[0m\u001b[37m\u001b[0m \u001b[1m0s\u001b[0m 3ms/step\n",
            "Cross-Validation Results (k=5):\n",
            "Accuracy: 0.9899 ± 0.0019\n",
            "Precision: 0.9899 ± 0.0019\n",
            "Recall: 0.9899 ± 0.0019\n",
            "F1-score: 0.9899 ± 0.0019\n",
            "AUC-ROC: 0.9997 ± 0.0001\n"
          ]
        }
      ]
    },
    {
      "cell_type": "code",
      "source": [
        "import matplotlib.pyplot as plt\n",
        "\n",
        "history = final_model.history.history  # Assuming you stored history from model.fit()\n",
        "\n",
        "plt.plot(history['loss'], label='Train Loss')\n",
        "plt.plot(history['val_loss'], label='Validation Loss')\n",
        "plt.xlabel('Epochs')\n",
        "plt.ylabel('Loss')\n",
        "plt.legend()\n",
        "plt.title(\"Training vs Validation Loss\")\n",
        "plt.show()"
      ],
      "metadata": {
        "colab": {
          "base_uri": "https://localhost:8080/",
          "height": 472
        },
        "id": "vJn9XqOtoyqv",
        "outputId": "69425b08-e59b-425a-a6d0-334a2162139e"
      },
      "execution_count": 27,
      "outputs": [
        {
          "output_type": "display_data",
          "data": {
            "text/plain": [
              "<Figure size 640x480 with 1 Axes>"
            ],
            "image/png": "[encoded data removed]"
          },
          "metadata": {}
        }
      ]
    },
    {
      "cell_type": "code",
      "source": [
        "plt.plot(history['accuracy'], label='Train Accuracy')\n",
        "plt.plot(history['val_accuracy'], label='Validation Accuracy')\n",
        "plt.xlabel('Epochs')\n",
        "plt.ylabel('Accuracy')\n",
        "plt.legend()\n",
        "plt.title(\"Training vs Validation Accuracy\")\n",
        "plt.show()"
      ],
      "metadata": {
        "colab": {
          "base_uri": "https://localhost:8080/",
          "height": 472
        },
        "id": "jZdSTFtno0f0",
        "outputId": "497b2214-58e9-4e32-f46e-08e89ee809f6"
      },
      "execution_count": 28,
      "outputs": [
        {
          "output_type": "display_data",
          "data": {
            "text/plain": [
              "<Figure size 640x480 with 1 Axes>"
            ],
            "image/png": "[encoded data removed]"
          },
          "metadata": {}
        }
      ]
    },
    {
      "cell_type": "code",
      "source": [],
      "metadata": {
        "id": "HooxFyv3o3qn"
      },
      "execution_count": null,
      "outputs": []
    },
    {
      "cell_type": "code",
      "source": [
        "import tensorflow as tf\n",
        "tf.config.list_physical_devices('GPU')"
      ],
      "metadata": {
        "colab": {
          "base_uri": "https://localhost:8080/"
        },
        "id": "HsGnUFdopXf-",
        "outputId": "69c91baf-b16a-449c-a609-848881980622"
      },
      "execution_count": null,
      "outputs": [
        {
          "output_type": "execute_result",
          "data": {
            "text/plain": [
              "[PhysicalDevice(name='/physical_device:GPU:0', device_type='GPU')]"
            ]
          },
          "metadata": {},
          "execution_count": 4
        }
      ]
    },
    {
      "cell_type": "code",
      "source": [],
      "metadata": {
        "id": "35mkWoOoo2nE"
      },
      "execution_count": null,
      "outputs": []
    },
    {
      "cell_type": "code",
      "source": [
        "import psutil\n",
        "# Display virtual memory (only limited stats, no access to `total` etc.)\n",
        "print(f\"Available RAM: {psutil.virtual_memory().available / 1e9:.2f} GB\")"
      ],
      "metadata": {
        "colab": {
          "base_uri": "https://localhost:8080/"
        },
        "id": "E88jYS_fozdh",
        "outputId": "48a8394e-7da4-41e6-c4e9-bde5c191b2a6"
      },
      "execution_count": 21,
      "outputs": [
        {
          "output_type": "stream",
          "name": "stdout",
          "text": [
            "Available RAM: 8.40 GB\n"
          ]
        }
      ]
    },
    {
      "cell_type": "code",
      "source": [],
      "metadata": {
        "id": "mF9QRJpizAuP"
      },
      "execution_count": null,
      "outputs": []
    }
  ]
}